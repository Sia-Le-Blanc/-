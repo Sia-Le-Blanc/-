{
 "cells": [
  {
   "cell_type": "markdown",
   "id": "cbe1c241",
   "metadata": {},
   "source": [
    "# 이진 검색(binary search)\n",
    "\n",
    "### 이진 검색은 선형 검색보다 빠르게 검색할 수 있다는 장점이 있다.\n",
    "### 이진 검색은 원소가 오름차순이나 내림차순으로 정렬된 배열에서 좀 더 효율적으로 검색할 수 있다.\n",
    "\n",
    "\n",
    "--이진 검색에서 검색 범위를 좁히는 과정--\n",
    "- a[pc] < key : 중앙(pc)에서 오른쪽으로 한칸 이동하여 새로운 왼쪽 끝 pl로 지정하고, 검색 범위를 뒤쪽 절반으로 좁힙니다.\n",
    "- a[pc] > key : 중앙(pc)에서 왼쪽으로 한칸 이동하여 새로운 오른쪽 끝 pr로 지정하고, 검색 범위를 앞쪽 절반으로 좁힙니다.\n"
   ]
  }
 ],
 "metadata": {
  "language_info": {
   "name": "python"
  }
 },
 "nbformat": 4,
 "nbformat_minor": 5
}
