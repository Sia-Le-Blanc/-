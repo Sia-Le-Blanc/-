{
 "cells": [
  {
   "cell_type": "markdown",
   "id": "a40749e6",
   "metadata": {},
   "source": [
    "# 배열검색\n",
    "\n",
    "## - 선형 검색 : 무작위로 늘어놓은 데이터 집합에서 검색을 수행합니다.\n",
    "## - 이진 검색 : 일정한 규칙으로 늘어놓은 데이터 집합에서 아주 빠른 검색을 수행합니다.\n",
    "## - 해시법 : 추가|삭제가 자주 일어나는 데이터 집합에서 아주 빠른 검색을 수행합니다.\n",
    "### a. 체인법 : 같은 해시값 데이터를 연결 리스트로 연결하는 방법입니다.\n",
    "### b. 오픈 주소법 : 데이터를 위한 해시값이 충동할 때 재해시하는 방법입니다."
   ]
  },
  {
   "cell_type": "markdown",
   "id": "a13ed35f",
   "metadata": {},
   "source": [
    "## 선형 검색\n",
    "\n",
    "### 선형 검색(linear search)이란 직선 모양(선형)으로 늘어선 배열에서 검색하는 경우에 원하는 키값을 가진 원소를 찾을 때까지 맨 앞부터 스캔하여 순서대로 검색하는 알고리즘입니다."
   ]
  },
  {
   "cell_type": "code",
   "execution_count": 4,
   "id": "1572f408",
   "metadata": {},
   "outputs": [
    {
     "name": "stdout",
     "output_type": "stream",
     "text": [
      "검색값을 갖는 원소가 존재하지 않습니다.\n"
     ]
    }
   ],
   "source": [
    "# while 문으로 작성한 선형 검색 알고리즘abs\n",
    "\n",
    "from typing import Any, Sequence # 사용자에게 입력 힌트를 주기위해 클래스를 임포트\n",
    "\n",
    "def seq_search_while(a: Sequence, key: Any) -> int: # 이 함수는 a 자리에 시퀀스를 받고 key 자리에 모든 자료형을 받은 후 int 형으로 반환\n",
    "    \"\"\"시퀀스 a에서 key와 값이 같은 원소를 선형 검색(while 문)\"\"\"\n",
    "    i = 0 # 인덱스\n",
    "\n",
    "    while True: # 무항 루프\n",
    "        if i == len(a): # 인덱스가 시퀀스 길이에 도달하면\n",
    "            return -1 # -1 반환\n",
    "        if a[i] == key: # a 시퀀스의 i 번째 인덱스에 key 값이랑 같으면\n",
    "            return i # 그때의 인겍스인 i 를 반환\n",
    "        i += 1 # i 를 1 증가\n",
    "\n",
    "\n",
    "if __name__ == '__main__': # 이 파일이 직접 실행될 때만 다음 코드를 실행\n",
    "    num = int(input('원소 수를 입력하세요.: ')) # 사용자로부터 원소 수를 입력 받음 및 정수로 변환\n",
    "    x = [None] * num # 입력받은 수 만큼의 None로 이루어진 리스트 생성\n",
    "\n",
    "    for i in range(num): # 입력받은 num 만큼 반복 (i를 0부터 1씩 증가 시키며)\n",
    "        x[i] = int(input(f'x[{i}]: ')) # 사용자로부터 정수를 하나씩 입력받고 리스트를 채워나감\n",
    "\n",
    "    ky = int(input('검색할 값을 입력하세요.: ')) # 키로쓸 값을 입력 받음\n",
    "\n",
    "    idx = seq_search(x, ky) # 위에서 만든 seq_shearch 함수에 리스트와 키 값을 넣어 검색\n",
    "\n",
    "    if idx == -1: # 반환된 값이 -1이면 원소가 없음\n",
    "        print('검색값을 갖는 원소가 존재하지 않습니다.')\n",
    "    else: # -1이 아니면 숫자가 나온 것이니 그 인덱스를 출력\n",
    "        print(f'검색값은 x[{idx}]에 있습니다.')"
   ]
  },
  {
   "cell_type": "code",
   "execution_count": 5,
   "id": "57f5733d",
   "metadata": {},
   "outputs": [
    {
     "name": "stdout",
     "output_type": "stream",
     "text": [
      "검색값을 갖는 원소가 존재하지 않습니다.\n"
     ]
    }
   ],
   "source": [
    "# 위의 코드를 for 문으로 작성한 선형 검색 알고리즘\n",
    "\n",
    "from typing import Any, Sequence # 사용자에게 입력 힌트를 주기위해 클래스를 임포트\n",
    "\n",
    "def seq_search_for(a: Sequence, key: Any) -> int:  # 이 함수는 a 자리에 시퀀스를 받고 key 자리에 모든 자료형을 받은 후 int 형으로 반환\n",
    "    \"\"\"시쿤스 a에서 key와 값이 같은 원소를 선형 검색(for 문)\"\"\"\n",
    "    for i in range(len(a)): # 입력박은 시퀀스 a의 길이만큼 반복\n",
    "        if a[i] == key: # a 시퀀스의 i 번째 인덱스에 key 값이랑 같으면 i 반환\n",
    "            return i\n",
    "    return -1\n",
    "        \n",
    "if __name__ == '__main__': # 이 파일이 직접 실행될 때만 다음 코드를 실행\n",
    "    num = int(input('원소 수를 입력하세요.: ')) # 사용자로부터 원소 수를 입력 받음 및 정수로 변환\n",
    "    x = [None] * num # 입력받은 수 만큼의 None로 이루어진 리스트 생성\n",
    "\n",
    "    for i in range(num): # 입력받은 num 만큼 반복 (i를 0부터 1씩 증가 시키며)\n",
    "        x[i] = int(input(f'x[{i}]: ')) # 사용자로부터 정수를 하나씩 입력받고 리스트를 채워나감\n",
    "\n",
    "    ky = int(input('검색할 값을 입력하세요.: ')) # 키로쓸 값을 입력 받음\n",
    "\n",
    "    idx = seq_search(x, ky) # 위에서 만든 seq_shearch 함수에 리스트와 키 값을 넣어 검색\n",
    "\n",
    "    if idx == -1: # 반환된 값이 -1이면 원소가 없음\n",
    "        print('검색값을 갖는 원소가 존재하지 않습니다.')\n",
    "    else: # -1이 아니면 숫자가 나온 것이니 그 인덱스를 출력\n",
    "        print(f'검색값은 x[{idx}]에 있습니다.')"
   ]
  },
  {
   "cell_type": "code",
   "execution_count": 7,
   "id": "cf01f6d2",
   "metadata": {},
   "outputs": [
    {
     "name": "stdout",
     "output_type": "stream",
     "text": [
      "실수를 검색합니다.\n",
      "주의: \"End\"를 입력하면 종료합니다.\n",
      "검색값은 x[2]에 있습니다.\n"
     ]
    }
   ],
   "source": [
    "# seq_search() 함수를 사용하여 실수 검색하기\n",
    "\n",
    "print('실수를 검색합니다.')\n",
    "print('주의: \"End\"를 입력하면 종료합니다.')\n",
    "\n",
    "number = 0\n",
    "x = [] # 빈 리스트 생성\n",
    "\n",
    "while True:\n",
    "    s = input(f'x[{number}]')\n",
    "    if s == 'End':\n",
    "        break\n",
    "    x.append(float(s))\n",
    "    number += 1\n",
    "\n",
    "ky = float(input('검색할 값을 입력하세요.: '))\n",
    "\n",
    "idx = seq_search_while(x, ky)\n",
    "if idx == -1:\n",
    "    print('검색값을 갖는 원소가 존재하지 않습니다.')\n",
    "else:\n",
    "    print(f'검색값은 x[{idx}]에 있습니다.')"
   ]
  },
  {
   "cell_type": "markdown",
   "id": "6ad2addb",
   "metadata": {},
   "source": [
    "## 보초법\n",
    "\n",
    "### - 종료조건을 검사하는 비용을 반으로 줄이기 위한 기법.\n",
    "### - \"검색할 값을 찾지 못하고 배열의 맨 끝을 지나갔습니까?\"를 판단할 필요가 없어짐"
   ]
  },
  {
   "cell_type": "code",
   "execution_count": 9,
   "id": "26433672",
   "metadata": {},
   "outputs": [
    {
     "name": "stdout",
     "output_type": "stream",
     "text": [
      "검색값은 x[2]에 있습니다.\n"
     ]
    }
   ],
   "source": [
    "# 선형 검색 알고리즘(실습 3-1)을 보초법으로 수정\n",
    "\n",
    "from typing import Any, Sequence \n",
    "import copy # 리스트를 복사하기 위해 copy 모듈 임포트\n",
    "\n",
    "def seq_search_sentinel(seq: Sequence, key: Any) -> int:\n",
    "    \"\"\"시퀀즈 seq에서 key와 일치하는 원소를 선형 검색(보초법)\"\"\"\n",
    "    a = copy.deepcopy(seq) # seq를 복사\n",
    "    a.append(key)\n",
    "\n",
    "    i = 0\n",
    "    while True:\n",
    "        if a[i] == key:\n",
    "            break\n",
    "        i += 1\n",
    "    return -1 if i == len(seq) else i # i가 시퀀스 길이와 같은면 -1 반환, 아니면 i 반환\n",
    "\n",
    "\n",
    "if __name__ == '__main__':\n",
    "    num = int(input('원소 수를 입력하세요.: ')) \n",
    "    x = [None] * num \n",
    "\n",
    "    for i in range(num): \n",
    "        x[i] = int(input(f'x[{i}]: ')) \n",
    "\n",
    "    ky = int(input('검색할 값을 입력하세요.: ')) \n",
    "\n",
    "    idx = seq_search_sentinel(x, ky) \n",
    "\n",
    "    if idx == -1: \n",
    "        print('검색값을 갖는 원소가 존재하지 않습니다.')\n",
    "    else: \n",
    "        print(f'검색값은 x[{idx}]에 있습니다.')\n",
    "\n"
   ]
  }
 ],
 "metadata": {
  "kernelspec": {
   "display_name": "base",
   "language": "python",
   "name": "python3"
  },
  "language_info": {
   "codemirror_mode": {
    "name": "ipython",
    "version": 3
   },
   "file_extension": ".py",
   "mimetype": "text/x-python",
   "name": "python",
   "nbconvert_exporter": "python",
   "pygments_lexer": "ipython3",
   "version": "3.12.2"
  }
 },
 "nbformat": 4,
 "nbformat_minor": 5
}
