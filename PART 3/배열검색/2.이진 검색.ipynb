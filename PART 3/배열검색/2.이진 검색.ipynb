{
 "cells": [
  {
   "cell_type": "markdown",
   "id": "cbe1c241",
   "metadata": {},
   "source": [
    "# 이진 검색(binary search)\n",
    "\n",
    "### 이진 검색은 선형 검색보다 빠르게 검색할 수 있다는 장점이 있다.\n",
    "### 이진 검색은 원소가 오름차순이나 내림차순으로 정렬된 배열에서 좀 더 효율적으로 검색할 수 있다.\n",
    "\n",
    "\n",
    "--이진 검색에서 검색 범위를 좁히는 과정--\n",
    "- a[pc] < key : 중앙(pc)에서 오른쪽으로 한칸 이동하여 새로운 왼쪽 끝 pl로 지정하고, 검색 범위를 뒤쪽 절반으로 좁힙니다.\n",
    "- a[pc] > key : 중앙(pc)에서 왼쪽으로 한칸 이동하여 새로운 오른쪽 끝 pr로 지정하고, 검색 범위를 앞쪽 절반으로 좁힙니다.\n"
   ]
  },
  {
   "cell_type": "code",
   "execution_count": null,
   "id": "6aa3d6b5",
   "metadata": {},
   "outputs": [
    {
     "name": "stdout",
     "output_type": "stream",
     "text": [
      "배열 데이터를 오름차순으로 입력하세요.\n",
      "검색값은 x[3]에 있습니다.\n"
     ]
    }
   ],
   "source": [
    "# 이진 검색 알고리즘\n",
    "# pl, pr은 각각 point left, point right의 약자\n",
    "\n",
    "from typing import Any, Sequence # 사용자에게 타입 힌트를 주기 위한 모듈\n",
    "\n",
    "def bin_search(a: Sequence, key:Any) -> int: # 시퀀스 a와 모든 타입의 key를 입력받아 int형으로 반환\n",
    "    \"\"\"시퀀스 a에서 key와 일치하는 원소를 이진 검색\"\"\"\n",
    "    pl = 0 # 검색 맨 앞의 인덱스\n",
    "    pr = len(a) - 1 # 검색 맨 뒤의 인덱스\n",
    "\n",
    "    while True: # 무한 루프\n",
    "        pc = (pl + pr) // 2  # 중앙 인덱스는 pl+pt의 나머지 몫\n",
    "        if a[pc] == key: # 만약 시퀀스 a의 pc 인덱스에 key가 존재한다면 그때의 인덱스 값인 pc를 반환\n",
    "            return pc\n",
    "        elif a[pc] < key: # 만약 a[pc]가 key보다 작다면\n",
    "            pl = pc + 1 # 가장 앞의 인덱스 pl을 이전의 중앙인덱스에 1을 더한 값으로 변경\n",
    "        else :\n",
    "            pr = pc - 1 # 만약 a[pc가 key 보다 크다면 가장 앞의 인덱스 pr을 이전의 중앙인덱스에 1을 뺀 값으로 변경\n",
    "        if pl > pr: # 만약 가장 앞의 인덱스가 가장 뒤의 인덱스보다 커진다면 \n",
    "            break # 반복문 탈출\n",
    "    return -1\n",
    "\n",
    "if __name__ == '__main__':  # 이 파일이 직접 실행될 때만 다음의 코드를 실행\n",
    "    num = int(input('원소 수를 입력하세요.: ')) # 사용자에게 원소 수를 입력받아 int형으로 변환하여 num에 저장\n",
    "    x = [None] * num # num개의 원소를 가진 배열 x를 생성\n",
    "\n",
    "    print('배열 데이터를 오름차순으로 입력하세요.') # 사용자에게 배열 데이터를 오름차순으로 입력하라는 메시지 출력\n",
    "\n",
    "    x[0] = int(input('x[0]: ')) # 사용자에게 x[0]의 값을 입력받아 int형으로 변환하여 배열 x의 첫 번째 원소에 저장\n",
    "\n",
    "    for i in range(1, num): # 1부터 num-1까지 반복\n",
    "        while True: # 무한 루프\n",
    "            x[i] = int(input(f'x[{i}]: ')) # 사용자에게 x[i]의 값을 입력받아 int형으로 변환하여 배열 x의 i번째 원소에 저장\n",
    "            if x[i] >= x[i-1]: # 만약 x[i]가 이전 원소인 x[i-1]보다 크거나 같다면\n",
    "                break # 반복문 탈출\n",
    "\n",
    "    ky = int(input('검색할 값을 입력하세요.: ')) # 사용자에게 검색할 값을 입력받아 int형으로 변환하여 ky에 저장\n",
    "\n",
    "    idx = bin_search(x, ky) # 배열 x와 검색할 값 ky를 인자로 하여 bin_search 함수를 호출하고 그 반환값을 idx에 저장\n",
    "\n",
    "    if idx == -1: # 만약 idx가 -1이라면 (즉, 검색값이 존재하지 않는다면)\n",
    "        print('검색값을 갖는 원소가 존재하지 않습니다.')\n",
    "    else:\n",
    "        print(f'검색값은 x[{idx}]에 있습니다.') # 그렇지 않다면 (즉, 검색값이 존재한다면) 그 위치를 출력"
   ]
  },
  {
   "cell_type": "markdown",
   "id": "c4efd752",
   "metadata": {},
   "source": [
    "## 이진 검색 알고맂므은 반복할 때마다 검색 범위가 거의 젛반으로 줄어들므로 검색하는 데 필요한 비교 횟수는 평균 log(n)입니다. \n",
    "## 검색에 실패할 경우는 [log(n+1)]번이며, 검색에 성공할 경우는 lon(n-1)번입니다."
   ]
  },
  {
   "cell_type": "code",
   "execution_count": null,
   "id": "bae97cb1",
   "metadata": {},
   "outputs": [],
   "source": []
  }
 ],
 "metadata": {
  "kernelspec": {
   "display_name": "base",
   "language": "python",
   "name": "python3"
  },
  "language_info": {
   "codemirror_mode": {
    "name": "ipython",
    "version": 3
   },
   "file_extension": ".py",
   "mimetype": "text/x-python",
   "name": "python",
   "nbconvert_exporter": "python",
   "pygments_lexer": "ipython3",
   "version": "3.12.2"
  }
 },
 "nbformat": 4,
 "nbformat_minor": 5
}
