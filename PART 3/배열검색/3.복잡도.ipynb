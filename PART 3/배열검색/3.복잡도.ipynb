{
 "cells": [
  {
   "cell_type": "markdown",
   "id": "b7a70d5e",
   "metadata": {},
   "source": [
    "# 복잡도\n",
    "\n",
    "### 프로그램의 실행 속도는 프로그램이 동작하는 하드웨어나 컴파일러 등의 조건에 따라 달라집니다.\n",
    "### 알고리즘의 성능을 객관적으로 평가하는 기준을 복잡도(complexity)라고 합니다. \n",
    "### 복잡도는 아래의 2가지로 구분합니다.\n",
    "\n",
    "- 시간 복잡도(time complexity): 실행하는 데 필요한 시간을 평가합니다.\n",
    "- 공간 복잡도(space complexity): 메모리(기억 공간)와 파일 공간이 얼마나 필요한지를 평가합니다."
   ]
  },
  {
   "cell_type": "code",
   "execution_count": 4,
   "id": "3a1eafdb",
   "metadata": {},
   "outputs": [
    {
     "name": "stdout",
     "output_type": "stream",
     "text": [
      "배열 데이터를 오름차순으로 입력하세요.\n",
      "   |   0   1   2   3   4   5   6   7   8   9  10\n",
      "---+--------------------------------------------\n",
      "   | <-              5              -> \n",
      "  5|   1   2   3   4   5   6   7   8   9  10  11\n",
      "   |\n",
      "   |                   <-     8     -> \n",
      "  8|   1   2   3   4   5   6   7   8   9  10  11\n",
      "   |\n",
      "   |  6  -> \n",
      "  6|   1   2   3   4   5   6   7   8   9  10  11\n",
      "   |\n",
      "   |  7  \n",
      "  7|   1   2   3   4   5   6   7   8   9  10  11\n",
      "   |\n",
      "검색값은 x[7]에 있습니다.\n"
     ]
    }
   ],
   "source": [
    "# 이진 검색 알고리즘의 실행 과정을 출력\n",
    "\n",
    "from typing import Any, Sequence\n",
    "\n",
    "def bin_search(a: Sequence, key: Any) -> int:\n",
    "    \"\"\"시퀀스 a에서 key와 일치하는 원소를 이진 검색(실행 과정을 출력)\"\"\"\n",
    "    pl = 0\n",
    "    pr = len(a) - 1\n",
    "\n",
    "    print(\"   |\", end=\"\")\n",
    "    for i in range(len(a)):\n",
    "        print(f\"{i:4}\", end=\"\")\n",
    "    print()\n",
    "    print(\"---+\" + \"----\" * len(a))\n",
    "\n",
    "    while pl <= pr:\n",
    "\n",
    "        pc = (pl + pr) // 2\n",
    "\n",
    "        print(\"   |\", end=\"\")\n",
    "        if pl != pc:\n",
    "            print(\"   \" * pl, end=\"\")\n",
    "            print(\" <-\", end=\"\")\n",
    "            print(\"   \" * (pc - pl - 1), end=\"\")\n",
    "        print(f\"  {pc}  \", end=\"\")\n",
    "        if pc != pr:\n",
    "            print(\"   \" * (pr - pc - 1), end=\"\")\n",
    "            print(\"-> \", end=\"\")\n",
    "        print()\n",
    "        print(f\"{pc:3}|\", end=\"\")\n",
    "        for i in range(len(a)):\n",
    "            print(f\"{a[i]:4}\", end=\"\")\n",
    "        print(\"\\n   |\")\n",
    "\n",
    "        if a[pc] == key:\n",
    "            return pc\n",
    "        elif a[pc] < key:\n",
    "            pl = pc + 1\n",
    "        else:\n",
    "            pr = pc - 1\n",
    "\n",
    "if __name__ == '__main__':  # 이 파일이 직접 실행될 때만 다음의 코드를 실행\n",
    "    num = int(input('원소 수를 입력하세요.: ')) # 사용자에게 원소 수를 입력받아 int형으로 변환하여 num에 저장\n",
    "    x = [None] * num # num개의 원소를 가진 배열 x를 생성\n",
    "\n",
    "    print('배열 데이터를 오름차순으로 입력하세요.') # 사용자에게 배열 데이터를 오름차순으로 입력하라는 메시지 출력\n",
    "\n",
    "    x[0] = int(input('x[0]: ')) # 사용자에게 x[0]의 값을 입력받아 int형으로 변환하여 배열 x의 첫 번째 원소에 저장\n",
    "\n",
    "    for i in range(1, num): # 1부터 num-1까지 반복\n",
    "        while True: # 무한 루프\n",
    "            x[i] = int(input(f'x[{i}]: ')) # 사용자에게 x[i]의 값을 입력받아 int형으로 변환하여 배열 x의 i번째 원소에 저장\n",
    "            if x[i] >= x[i-1]: # 만약 x[i]가 이전 원소인 x[i-1]보다 크거나 같다면\n",
    "                break # 반복문 탈출\n",
    "\n",
    "    ky = int(input('검색할 값을 입력하세요.: ')) # 사용자에게 검색할 값을 입력받아 int형으로 변환하여 ky에 저장\n",
    "\n",
    "    idx = bin_search(x, ky) # 배열 x와 검색할 값 ky를 인자로 하여 bin_search 함수를 호출하고 그 반환값을 idx에 저장\n",
    "\n",
    "    if idx == -1: # 만약 idx가 -1이라면 (즉, 검색값이 존재하지 않는다면)\n",
    "        print('검색값을 갖는 원소가 존재하지 않습니다.')\n",
    "    else:\n",
    "        print(f'검색값은 x[{idx}]에 있습니다.') # 그렇지 않다면 (즉, 검색값이 존재한다면) 그 위치를 출력"
   ]
  },
  {
   "cell_type": "code",
   "execution_count": null,
   "id": "b5a7d31b",
   "metadata": {},
   "outputs": [],
   "source": []
  }
 ],
 "metadata": {
  "kernelspec": {
   "display_name": "base",
   "language": "python",
   "name": "python3"
  },
  "language_info": {
   "codemirror_mode": {
    "name": "ipython",
    "version": 3
   },
   "file_extension": ".py",
   "mimetype": "text/x-python",
   "name": "python",
   "nbconvert_exporter": "python",
   "pygments_lexer": "ipython3",
   "version": "3.12.2"
  }
 },
 "nbformat": 4,
 "nbformat_minor": 5
}
